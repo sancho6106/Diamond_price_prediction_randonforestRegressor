{
 "cells": [
  {
   "cell_type": "markdown",
   "id": "1da5e2a1",
   "metadata": {},
   "source": [
    "ç"
   ]
  },
  {
   "cell_type": "code",
   "execution_count": 2,
   "id": "4ab48c89",
   "metadata": {
    "scrolled": true
   },
   "outputs": [],
   "source": [
    "import pandas as pd\n",
    "import numpy as np\n",
    "import seaborn as sns\n",
    "import matplotlib.pyplot as plt\n",
    "from sklearn.metrics import accuracy_score\n",
    "from sklearn.linear_model import LinearRegression\n",
    "from sklearn.ensemble import RandomForestRegressor\n",
    "from sklearn.pipeline import make_pipeline\n",
    "from sklearn.model_selection import train_test_split\n",
    "import matplotlib.pyplot as plt\n",
    "from sklearn.compose import make_column_selector as selector\n",
    "from sklearn.preprocessing import OneHotEncoder, StandardScaler\n",
    "from sklearn.compose import ColumnTransformer\n",
    "import xgboost as xgb\n",
    "training = pd.read_csv(\"training.csv\")\n",
    "offer= pd.read_csv('offers.csv')\n",
    "pd.set_option(\"display.max_columns\", None)\n",
    "\n",
    "\n",
    "training.fillna(value = {'Depth':training.Depth.mean(), 'Table':training.Table.mean()}, inplace=True)\n",
    "offer.fillna(value = {'Depth':offer.Depth.mean(), 'Table':offer.Table.mean()}, inplace=True)\n",
    "offer2 = offer\n",
    "training['Polish'] = np.where(training['Polish']== ' ', training['Polish'].mode(), training['Polish'])\n",
    "\n",
    "training['Shape']=np.where(training['Shape'] == 'ROUND', 'Round', training['Shape'])\n",
    "offer['Shape']=np.where(offer['Shape'] == 'ROUND', 'Round', offer['Shape'])\n",
    "\n",
    "training['Regions']=np.where(training['Regions'] == 'Other/Unknown', \n",
    "                             training['Regions'].mode(), training['Regions'])\n",
    "offer['Regions']=np.where(offer['Regions'] == 'Other/Unknown', \n",
    "                          offer['Regions'].mode(), offer['Regions'])\n",
    "\n",
    "training['Symmetry']=np.where(training['Symmetry'] == ' ', training['Symmetry'].mode(), \n",
    "                              np.where(training['Symmetry'] == 'Execllent', 'Excellent', training['Symmetry']))\n",
    "\n",
    "offer['Symmetry']=np.where(offer['Symmetry'] == ' ', offer['Symmetry'].mode(), offer['Symmetry'])\n",
    "\n",
    "\n",
    "mode = training['Cert'].mode().values[0]\n",
    "training['Cert'].fillna(value=mode, inplace=True)\n",
    "mode2 = offer['Cert'].mode().values[0]\n",
    "offer['Cert'].fillna(value=mode2, inplace=True)\n",
    "\n",
    "mode3 = offer['Known_Conflict_Diamond'].mode().values[0]\n",
    "offer['Known_Conflict_Diamond'].fillna(value = mode3, inplace=True)"
   ]
  },
  {
   "cell_type": "code",
   "execution_count": 2,
   "id": "68a97ad3",
   "metadata": {
    "scrolled": true
   },
   "outputs": [],
   "source": [
    "training['Vendor'] = training.Vendor.astype(str)"
   ]
  },
  {
   "cell_type": "markdown",
   "id": "3c9fc856",
   "metadata": {},
   "source": [
    "Here, i started subsetting thwe dataset for prediction. i removed id, cut, retail, price and log retail as they wonnt be needed for the supposed machine learning. to reiterate, cut was removed because over 60% of the data is missing and filling it up wont have a good representation of the entire sample.\n",
    "\n",
    "from the observaiton, logprice was used this is because one rule of regession is that the dataset has to be normally distributed. but price and retail price are skewed to the right and so, log of the price is used.after the prediction, the predicted price which is still in log is transformed with actual value. "
   ]
  },
  {
   "cell_type": "code",
   "execution_count": 3,
   "id": "09591cc8",
   "metadata": {
    "scrolled": false
   },
   "outputs": [],
   "source": [
    "cleaned = training.drop(columns = [\"id\",\"Cut\", \"Retail\", \"Price\", \"LogRetail\"])\n",
    "\n",
    "offer_cleaned = offer.drop(columns = [\"id\",\"Cut\", \"Offers\"])"
   ]
  },
  {
   "cell_type": "code",
   "execution_count": 4,
   "id": "ae2b2ee3",
   "metadata": {
    "scrolled": false
   },
   "outputs": [],
   "source": [
    "target = cleaned[\"LogPrice\"]\n",
    "target\n",
    "predictors= cleaned.drop(columns=[\"LogPrice\"])\n"
   ]
  },
  {
   "cell_type": "markdown",
   "id": "7290eb8e",
   "metadata": {},
   "source": [
    "from the dataset it is obverse that some categorical data has  lots of various levels are categories. labelling this columns as 0,1 wont work as it contains lots of categories and the model might see them as integers annd wont perform optimally to get better prediction and model accuracy. so what is the way out? \"one hot encoding\". one hot encoding is a method of coverting categorical values into a new categorical column and assign a binary value of 1 or 0 to these columns. "
   ]
  },
  {
   "cell_type": "code",
   "execution_count": 5,
   "id": "2c0de312",
   "metadata": {},
   "outputs": [],
   "source": [
    "numerical_columns_selector = selector(dtype_exclude=object)\n",
    "categorical_columns_selector = selector(dtype_include=object)\n",
    "\n",
    "numerical_columns = numerical_columns_selector(predictors)\n",
    "categorical_columns = categorical_columns_selector(predictors)\n",
    "\n",
    "categorical_preprocessor = OneHotEncoder(handle_unknown=\"ignore\")\n",
    "numerical_preprocessor = StandardScaler()\n",
    "\n",
    "preprocessor = ColumnTransformer([\n",
    "    ('one-hot-encoder', categorical_preprocessor, categorical_columns),\n",
    "    ('standard_scaler', numerical_preprocessor, numerical_columns)])\n",
    "\n",
    "\n",
    "####offer one-hot-encoder\n",
    "numerical_columns_selector_offer = selector(dtype_exclude=object)\n",
    "categorical_columns_selector_offer = selector(dtype_include=object)\n",
    "\n",
    "numerical_columns_offer = numerical_columns_selector_offer(offer_cleaned)\n",
    "categorical_columns_offer = categorical_columns_selector_offer(offer_cleaned)\n",
    "\n",
    "categorical_preprocessor = OneHotEncoder(handle_unknown=\"ignore\")\n",
    "numerical_preprocessor = StandardScaler()\n",
    "\n",
    "preprocessor = ColumnTransformer([\n",
    "   ('one-hot-encoder', categorical_preprocessor, categorical_columns_offer),\n",
    "   ('standard_scaler', numerical_preprocessor, numerical_columns_offer)])"
   ]
  },
  {
   "cell_type": "code",
   "execution_count": 6,
   "id": "f3879550",
   "metadata": {},
   "outputs": [],
   "source": [
    "rfr = make_pipeline(preprocessor, RandomForestRegressor())"
   ]
  },
  {
   "cell_type": "code",
   "execution_count": 7,
   "id": "afd129e9",
   "metadata": {},
   "outputs": [],
   "source": [
    "x_train, x_test, y_train, y_test = train_test_split(\n",
    "    predictors, target, random_state=42)"
   ]
  },
  {
   "cell_type": "code",
   "execution_count": 8,
   "id": "63afe0d9",
   "metadata": {
    "scrolled": false
   },
   "outputs": [
    {
     "data": {
      "text/plain": [
       "Pipeline(steps=[('columntransformer',\n",
       "                 ColumnTransformer(transformers=[('one-hot-encoder',\n",
       "                                                  OneHotEncoder(handle_unknown='ignore'),\n",
       "                                                  ['Cert', 'Clarity', 'Color',\n",
       "                                                   'Measurements', 'Polish',\n",
       "                                                   'Regions', 'Shape',\n",
       "                                                   'Symmetry']),\n",
       "                                                 ('standard_scaler',\n",
       "                                                  StandardScaler(),\n",
       "                                                  ['Carats', 'Depth',\n",
       "                                                   'Known_Conflict_Diamond',\n",
       "                                                   'Table', 'Vendor'])])),\n",
       "                ('randomforestregressor', RandomForestRegressor())])"
      ]
     },
     "execution_count": 8,
     "metadata": {},
     "output_type": "execute_result"
    }
   ],
   "source": [
    "rfr.fit(x_train, y_train)"
   ]
  },
  {
   "cell_type": "code",
   "execution_count": 12,
   "id": "873fc4b5",
   "metadata": {
    "scrolled": false
   },
   "outputs": [
    {
     "data": {
      "text/plain": [
       "array([ 6.37404856,  6.38106699,  6.38036367, ..., 10.00901771,\n",
       "       11.6394963 ,  8.62433224])"
      ]
     },
     "execution_count": 12,
     "metadata": {},
     "output_type": "execute_result"
    }
   ],
   "source": [
    "y_pred = rfr.predict(offer_cleaned)\n",
    "y_pred"
   ]
  },
  {
   "cell_type": "code",
   "execution_count": 14,
   "id": "292c68bc",
   "metadata": {},
   "outputs": [
    {
     "data": {
      "text/plain": [
       "0.9970887385249395"
      ]
     },
     "execution_count": 14,
     "metadata": {},
     "output_type": "execute_result"
    }
   ],
   "source": [
    "rfr.score(x_train, y_train)"
   ]
  },
  {
   "cell_type": "code",
   "execution_count": 10,
   "id": "d0f14874",
   "metadata": {},
   "outputs": [
    {
     "ename": "NameError",
     "evalue": "name 'y_pred' is not defined",
     "output_type": "error",
     "traceback": [
      "\u001b[0;31m---------------------------------------------------------------------------\u001b[0m",
      "\u001b[0;31mNameError\u001b[0m                                 Traceback (most recent call last)",
      "\u001b[0;32m/var/folders/8b/rhjr6r195yx6hmrypmkc_2_w0000gn/T/ipykernel_1314/2783999523.py\u001b[0m in \u001b[0;36m<module>\u001b[0;34m\u001b[0m\n\u001b[0;32m----> 1\u001b[0;31m \u001b[0moffer\u001b[0m\u001b[0;34m[\u001b[0m\u001b[0;34m'Offers'\u001b[0m\u001b[0;34m]\u001b[0m \u001b[0;34m=\u001b[0m \u001b[0my_pred\u001b[0m\u001b[0;34m\u001b[0m\u001b[0;34m\u001b[0m\u001b[0m\n\u001b[0m\u001b[1;32m      2\u001b[0m \u001b[0moffer\u001b[0m\u001b[0;34m[\u001b[0m\u001b[0;34m'Offers'\u001b[0m\u001b[0;34m]\u001b[0m \u001b[0;34m=\u001b[0m \u001b[0mnp\u001b[0m\u001b[0;34m.\u001b[0m\u001b[0mexp\u001b[0m\u001b[0;34m(\u001b[0m\u001b[0moffer\u001b[0m\u001b[0;34m[\u001b[0m\u001b[0;34m'Offers'\u001b[0m\u001b[0;34m]\u001b[0m\u001b[0;34m)\u001b[0m\u001b[0;34m\u001b[0m\u001b[0;34m\u001b[0m\u001b[0m\n",
      "\u001b[0;31mNameError\u001b[0m: name 'y_pred' is not defined"
     ]
    }
   ],
   "source": [
    "offer['Offers'] = y_pred\n",
    "offer['Offers'] = np.exp(offer['Offers'])"
   ]
  },
  {
   "cell_type": "markdown",
   "id": "1a0b8921",
   "metadata": {
    "scrolled": false
   },
   "source": [
    "since i want to select from the predicted offer, i have to create a justification for my selection. to do that, i have to predict the Retailprice as well and find the growth rate difference between the price and the retail price. after which i will sort the column by descending order to enable me select the rows and ensure my offer is less than 5,000,000. "
   ]
  },
  {
   "cell_type": "markdown",
   "id": "e0b29e7f",
   "metadata": {
    "scrolled": true
   },
   "source": [
    "## RetailPrice prediction\n",
    "from the observation, you will notice that logretail was also used to get the predicted value of retailprice"
   ]
  },
  {
   "cell_type": "code",
   "execution_count": 387,
   "id": "40f24b9c",
   "metadata": {},
   "outputs": [],
   "source": [
    "cleaned2 = training.drop(columns = [\"id\",\"Cut\", \"Retail\", \"Price\", \"LogPrice\"])\n",
    "offer['Vendor'] = offer.Vendor.astype(str)\n",
    "retail_cleaned = offer.drop(columns = [\"id\",\"Cut\", \"Offers\"])\n",
    "retail_cleaned\n",
    "cleaned\n",
    "target_retail = cleaned2[\"LogRetail\"]\n",
    "predcitors_retail = cleaned2.drop(columns=[\"LogRetail\"])\n",
    "\n",
    "numerical_columns_selector_retail = selector(dtype_exclude=object)\n",
    "categorical_columns_selector_retail = selector(dtype_include=object)\n",
    "\n",
    "numerical_columns_retail = numerical_columns_selector_retail(predictors_retail)\n",
    "categorical_columns_retail = categorical_columns_selector_retail(predictors_retail)\n",
    "\n",
    "categorical_preprocessor = OneHotEncoder(handle_unknown=\"ignore\")\n",
    "numerical_preprocessor = StandardScaler()\n",
    "\n",
    "preprocessor_retail = ColumnTransformer([\n",
    "    ('one-hot-encoder', categorical_preprocessor, categorical_columns_retail),\n",
    "    ('standard_scaler', numerical_preprocessor, numerical_columns_retail)])"
   ]
  },
  {
   "cell_type": "code",
   "execution_count": 169,
   "id": "99022685",
   "metadata": {},
   "outputs": [],
   "source": [
    "rfrr = make_pipeline(preprocessor_retail, RandomForestRegressor())"
   ]
  },
  {
   "cell_type": "code",
   "execution_count": 388,
   "id": "5ff2d513",
   "metadata": {},
   "outputs": [],
   "source": [
    "x_train_retail, x_test_retail, y_train_retail, y_test_retail = train_test_split(\n",
    "    predictors_retail, target_retail, random_state=42)"
   ]
  },
  {
   "cell_type": "code",
   "execution_count": 389,
   "id": "992905f7",
   "metadata": {
    "scrolled": true
   },
   "outputs": [
    {
     "data": {
      "text/plain": [
       "Pipeline(steps=[('columntransformer',\n",
       "                 ColumnTransformer(transformers=[('one-hot-encoder',\n",
       "                                                  OneHotEncoder(handle_unknown='ignore'),\n",
       "                                                  ['Cert', 'Clarity', 'Color',\n",
       "                                                   'Measurements', 'Polish',\n",
       "                                                   'Regions', 'Shape',\n",
       "                                                   'Symmetry', 'Vendor']),\n",
       "                                                 ('standard_scaler',\n",
       "                                                  StandardScaler(),\n",
       "                                                  ['Carats', 'Depth',\n",
       "                                                   'Known_Conflict_Diamond',\n",
       "                                                   'Table'])])),\n",
       "                ('randomforestregressor', RandomForestRegressor())])"
      ]
     },
     "execution_count": 389,
     "metadata": {},
     "output_type": "execute_result"
    }
   ],
   "source": [
    "rfrr.fit(x_train_retail, y_train_retail)"
   ]
  },
  {
   "cell_type": "code",
   "execution_count": 390,
   "id": "e073e5cd",
   "metadata": {},
   "outputs": [
    {
     "data": {
      "text/plain": [
       "0.9728831513146663"
      ]
     },
     "execution_count": 390,
     "metadata": {},
     "output_type": "execute_result"
    }
   ],
   "source": [
    "rfrr.score(x_test_retail, y_test_retail)"
   ]
  },
  {
   "cell_type": "code",
   "execution_count": 391,
   "id": "f5cc085a",
   "metadata": {},
   "outputs": [],
   "source": [
    "retail_pred = rfrr.predict(retail_cleaned)"
   ]
  },
  {
   "cell_type": "code",
   "execution_count": 392,
   "id": "59d74e3e",
   "metadata": {
    "scrolled": true
   },
   "outputs": [],
   "source": [
    "offer['RetailPrice'] = retail_pred\n",
    "offer['RetailPrice'] = np.exp(offer['RetailPrice'])"
   ]
  },
  {
   "cell_type": "code",
   "execution_count": 393,
   "id": "adc74aca",
   "metadata": {
    "scrolled": true
   },
   "outputs": [],
   "source": [
    "offer1 = pd.DataFrame(offer)"
   ]
  },
  {
   "cell_type": "markdown",
   "id": "92ff88cb",
   "metadata": {},
   "source": [
    "here, i substracted the predicted price from the predicted retailprice then multipled it by the predicted price to get the actual rate/percentage which is a true estimate of the price.. if i had used just the diff between predicted price and predicted retailprice, the value wont represent the actual difference rate."
   ]
  },
  {
   "cell_type": "code",
   "execution_count": 394,
   "id": "f5004ae7",
   "metadata": {
    "scrolled": true
   },
   "outputs": [],
   "source": [
    "offer1['profit']= (offer1['RetailPrice'] - offer1['Offers'])/offer1['Offers']"
   ]
  },
  {
   "cell_type": "code",
   "execution_count": 395,
   "id": "aa9d70e3",
   "metadata": {},
   "outputs": [],
   "source": [
    "offer_growth = offer1.sort_values(by=['profit'], ascending=False)"
   ]
  },
  {
   "cell_type": "markdown",
   "id": "ff0e3011",
   "metadata": {},
   "source": [
    "since i have a price constraint of 5,000,000,i have to employ the use of loop to ensure that my total predicted price is not more than 5,000,000"
   ]
  },
  {
   "cell_type": "code",
   "execution_count": 396,
   "id": "07e24263",
   "metadata": {
    "scrolled": false
   },
   "outputs": [],
   "source": [
    "selected = 0\n",
    "count = 0\n",
    "budget = 4990756.903125745\n",
    "for x in offer_growth['Offers']:\n",
    "    selected += x\n",
    "    count +=1\n",
    "    if selected == budget:\n",
    "        break "
   ]
  },
  {
   "cell_type": "code",
   "execution_count": 397,
   "id": "cf5c158e",
   "metadata": {
    "scrolled": true
   },
   "outputs": [],
   "source": [
    "my_offers = offer_growth.iloc[:620, :]"
   ]
  },
  {
   "cell_type": "markdown",
   "id": "4f0a4b1e",
   "metadata": {},
   "source": [
    "lastly, i used a merge function to fix my prediction in the orignal offer document. "
   ]
  },
  {
   "cell_type": "code",
   "execution_count": 399,
   "id": "f264e125",
   "metadata": {
    "scrolled": true
   },
   "outputs": [],
   "source": [
    "offer3 = offer2.drop(columns = [\"Offers\"])\n",
    "offer3 = pd.DataFrame(offer3)\n",
    "my_offer2 = my_offers[['id','Offers']]\n",
    "my_offer2 = pd.DataFrame(my_offer2)"
   ]
  },
  {
   "cell_type": "code",
   "execution_count": 400,
   "id": "4c38c3a3",
   "metadata": {
    "scrolled": false
   },
   "outputs": [
    {
     "data": {
      "text/html": [
       "<div>\n",
       "<style scoped>\n",
       "    .dataframe tbody tr th:only-of-type {\n",
       "        vertical-align: middle;\n",
       "    }\n",
       "\n",
       "    .dataframe tbody tr th {\n",
       "        vertical-align: top;\n",
       "    }\n",
       "\n",
       "    .dataframe thead th {\n",
       "        text-align: right;\n",
       "    }\n",
       "</style>\n",
       "<table border=\"1\" class=\"dataframe\">\n",
       "  <thead>\n",
       "    <tr style=\"text-align: right;\">\n",
       "      <th></th>\n",
       "      <th>id</th>\n",
       "      <th>Carats</th>\n",
       "      <th>Cert</th>\n",
       "      <th>Clarity</th>\n",
       "      <th>Color</th>\n",
       "      <th>Cut</th>\n",
       "      <th>Depth</th>\n",
       "      <th>Known_Conflict_Diamond</th>\n",
       "      <th>Measurements</th>\n",
       "      <th>Polish</th>\n",
       "      <th>Regions</th>\n",
       "      <th>Shape</th>\n",
       "      <th>Symmetry</th>\n",
       "      <th>Table</th>\n",
       "      <th>Vendor</th>\n",
       "      <th>RetailPrice</th>\n",
       "      <th>profit</th>\n",
       "      <th>Offers</th>\n",
       "    </tr>\n",
       "  </thead>\n",
       "  <tbody>\n",
       "    <tr>\n",
       "      <th>0</th>\n",
       "      <td>8051</td>\n",
       "      <td>0.42</td>\n",
       "      <td>AGSL</td>\n",
       "      <td>SI2</td>\n",
       "      <td>L</td>\n",
       "      <td></td>\n",
       "      <td>62.700000</td>\n",
       "      <td>False</td>\n",
       "      <td>4.81x4.78x3.01</td>\n",
       "      <td>Excellent</td>\n",
       "      <td>Australia</td>\n",
       "      <td>Round</td>\n",
       "      <td>Excellent</td>\n",
       "      <td>57.000000</td>\n",
       "      <td>1</td>\n",
       "      <td>950.126925</td>\n",
       "      <td>0.603476</td>\n",
       "      <td>NaN</td>\n",
       "    </tr>\n",
       "    <tr>\n",
       "      <th>1</th>\n",
       "      <td>8052</td>\n",
       "      <td>0.40</td>\n",
       "      <td>GemEx</td>\n",
       "      <td>VS2</td>\n",
       "      <td>M</td>\n",
       "      <td></td>\n",
       "      <td>63.800000</td>\n",
       "      <td>False</td>\n",
       "      <td>4.64x4.61x2.95</td>\n",
       "      <td>Excellent</td>\n",
       "      <td>Australia</td>\n",
       "      <td>Round</td>\n",
       "      <td>Excellent</td>\n",
       "      <td>59.000000</td>\n",
       "      <td>1</td>\n",
       "      <td>943.947796</td>\n",
       "      <td>0.630525</td>\n",
       "      <td>NaN</td>\n",
       "    </tr>\n",
       "    <tr>\n",
       "      <th>2</th>\n",
       "      <td>8053</td>\n",
       "      <td>0.41</td>\n",
       "      <td>AGSL</td>\n",
       "      <td>SI2</td>\n",
       "      <td>L</td>\n",
       "      <td></td>\n",
       "      <td>62.200000</td>\n",
       "      <td>True</td>\n",
       "      <td>4.76x4.74x2.95</td>\n",
       "      <td>Excellent</td>\n",
       "      <td>DR Congo</td>\n",
       "      <td>Round</td>\n",
       "      <td>Very good</td>\n",
       "      <td>58.000000</td>\n",
       "      <td>1</td>\n",
       "      <td>118.859820</td>\n",
       "      <td>-0.800633</td>\n",
       "      <td>NaN</td>\n",
       "    </tr>\n",
       "    <tr>\n",
       "      <th>3</th>\n",
       "      <td>8054</td>\n",
       "      <td>0.40</td>\n",
       "      <td>AGSL</td>\n",
       "      <td>SI1</td>\n",
       "      <td>K</td>\n",
       "      <td></td>\n",
       "      <td>64.200000</td>\n",
       "      <td>False</td>\n",
       "      <td>4.63x4.59x2.96</td>\n",
       "      <td>Very good</td>\n",
       "      <td>Angola</td>\n",
       "      <td>Emerald</td>\n",
       "      <td>Very good</td>\n",
       "      <td>58.000000</td>\n",
       "      <td>1</td>\n",
       "      <td>898.241287</td>\n",
       "      <td>0.379981</td>\n",
       "      <td>NaN</td>\n",
       "    </tr>\n",
       "    <tr>\n",
       "      <th>4</th>\n",
       "      <td>8055</td>\n",
       "      <td>0.40</td>\n",
       "      <td>AGSL</td>\n",
       "      <td>VS2</td>\n",
       "      <td>L</td>\n",
       "      <td></td>\n",
       "      <td>64.300000</td>\n",
       "      <td>False</td>\n",
       "      <td>4.67x4.62x2.99</td>\n",
       "      <td>Excellent</td>\n",
       "      <td>Russia</td>\n",
       "      <td>Round</td>\n",
       "      <td>Very good</td>\n",
       "      <td>58.104324</td>\n",
       "      <td>1</td>\n",
       "      <td>943.378085</td>\n",
       "      <td>0.585112</td>\n",
       "      <td>NaN</td>\n",
       "    </tr>\n",
       "    <tr>\n",
       "      <th>...</th>\n",
       "      <td>...</td>\n",
       "      <td>...</td>\n",
       "      <td>...</td>\n",
       "      <td>...</td>\n",
       "      <td>...</td>\n",
       "      <td>...</td>\n",
       "      <td>...</td>\n",
       "      <td>...</td>\n",
       "      <td>...</td>\n",
       "      <td>...</td>\n",
       "      <td>...</td>\n",
       "      <td>...</td>\n",
       "      <td>...</td>\n",
       "      <td>...</td>\n",
       "      <td>...</td>\n",
       "      <td>...</td>\n",
       "      <td>...</td>\n",
       "      <td>...</td>\n",
       "    </tr>\n",
       "    <tr>\n",
       "      <th>2678</th>\n",
       "      <td>10729</td>\n",
       "      <td>1.65</td>\n",
       "      <td>AGSL</td>\n",
       "      <td>VS1</td>\n",
       "      <td>E</td>\n",
       "      <td>Excellent</td>\n",
       "      <td>58.400000</td>\n",
       "      <td>False</td>\n",
       "      <td>7.79x7.83x4.56</td>\n",
       "      <td>Excellent</td>\n",
       "      <td>Canada</td>\n",
       "      <td>Pear</td>\n",
       "      <td>Excellent</td>\n",
       "      <td>60.000000</td>\n",
       "      <td>4</td>\n",
       "      <td>37564.831487</td>\n",
       "      <td>0.306380</td>\n",
       "      <td>NaN</td>\n",
       "    </tr>\n",
       "    <tr>\n",
       "      <th>2679</th>\n",
       "      <td>10730</td>\n",
       "      <td>2.35</td>\n",
       "      <td>AGSL</td>\n",
       "      <td>SI2</td>\n",
       "      <td>E</td>\n",
       "      <td>Excellent</td>\n",
       "      <td>62.100000</td>\n",
       "      <td>True</td>\n",
       "      <td>8.48x8.53x5.28</td>\n",
       "      <td>Excellent</td>\n",
       "      <td>Angola</td>\n",
       "      <td>Round</td>\n",
       "      <td>Excellent</td>\n",
       "      <td>58.000000</td>\n",
       "      <td>2</td>\n",
       "      <td>4537.574374</td>\n",
       "      <td>-0.871937</td>\n",
       "      <td>NaN</td>\n",
       "    </tr>\n",
       "    <tr>\n",
       "      <th>2680</th>\n",
       "      <td>10731</td>\n",
       "      <td>2.35</td>\n",
       "      <td>AGSL</td>\n",
       "      <td>SI2</td>\n",
       "      <td>J</td>\n",
       "      <td>Excellent</td>\n",
       "      <td>61.781656</td>\n",
       "      <td>False</td>\n",
       "      <td>8.64x8.67x5.2</td>\n",
       "      <td>Excellent</td>\n",
       "      <td>Russia</td>\n",
       "      <td>Pear</td>\n",
       "      <td>Very good</td>\n",
       "      <td>58.104324</td>\n",
       "      <td>2</td>\n",
       "      <td>35508.073094</td>\n",
       "      <td>0.628014</td>\n",
       "      <td>NaN</td>\n",
       "    </tr>\n",
       "    <tr>\n",
       "      <th>2681</th>\n",
       "      <td>10732</td>\n",
       "      <td>5.02</td>\n",
       "      <td>AGSL</td>\n",
       "      <td>I1</td>\n",
       "      <td>J</td>\n",
       "      <td>Excellent</td>\n",
       "      <td>59.500000</td>\n",
       "      <td>False</td>\n",
       "      <td>11.16x11.18x6.64</td>\n",
       "      <td>Excellent</td>\n",
       "      <td>Russia</td>\n",
       "      <td>Oval</td>\n",
       "      <td>Excellent</td>\n",
       "      <td>59.000000</td>\n",
       "      <td>2</td>\n",
       "      <td>186142.860581</td>\n",
       "      <td>0.520539</td>\n",
       "      <td>NaN</td>\n",
       "    </tr>\n",
       "    <tr>\n",
       "      <th>2682</th>\n",
       "      <td>10733</td>\n",
       "      <td>1.00</td>\n",
       "      <td>AGSL</td>\n",
       "      <td>SI2</td>\n",
       "      <td>E</td>\n",
       "      <td>Very good</td>\n",
       "      <td>59.700000</td>\n",
       "      <td>False</td>\n",
       "      <td>6.42x6.45x3.84</td>\n",
       "      <td>Excellent</td>\n",
       "      <td>Russia</td>\n",
       "      <td>Round</td>\n",
       "      <td>Excellent</td>\n",
       "      <td>61.000000</td>\n",
       "      <td>2</td>\n",
       "      <td>9197.414939</td>\n",
       "      <td>0.604371</td>\n",
       "      <td>NaN</td>\n",
       "    </tr>\n",
       "  </tbody>\n",
       "</table>\n",
       "<p>2683 rows × 18 columns</p>\n",
       "</div>"
      ],
      "text/plain": [
       "         id  Carats   Cert Clarity Color        Cut      Depth  \\\n",
       "0      8051    0.42   AGSL     SI2     L             62.700000   \n",
       "1      8052    0.40  GemEx     VS2     M             63.800000   \n",
       "2      8053    0.41   AGSL     SI2     L             62.200000   \n",
       "3      8054    0.40   AGSL     SI1     K             64.200000   \n",
       "4      8055    0.40   AGSL     VS2     L             64.300000   \n",
       "...     ...     ...    ...     ...   ...        ...        ...   \n",
       "2678  10729    1.65   AGSL     VS1     E  Excellent  58.400000   \n",
       "2679  10730    2.35   AGSL     SI2     E  Excellent  62.100000   \n",
       "2680  10731    2.35   AGSL     SI2     J  Excellent  61.781656   \n",
       "2681  10732    5.02   AGSL      I1     J  Excellent  59.500000   \n",
       "2682  10733    1.00   AGSL     SI2     E  Very good  59.700000   \n",
       "\n",
       "      Known_Conflict_Diamond      Measurements     Polish    Regions    Shape  \\\n",
       "0                      False    4.81x4.78x3.01  Excellent  Australia    Round   \n",
       "1                      False    4.64x4.61x2.95  Excellent  Australia    Round   \n",
       "2                       True    4.76x4.74x2.95  Excellent   DR Congo    Round   \n",
       "3                      False    4.63x4.59x2.96  Very good     Angola  Emerald   \n",
       "4                      False    4.67x4.62x2.99  Excellent     Russia    Round   \n",
       "...                      ...               ...        ...        ...      ...   \n",
       "2678                   False    7.79x7.83x4.56  Excellent     Canada     Pear   \n",
       "2679                    True    8.48x8.53x5.28  Excellent     Angola    Round   \n",
       "2680                   False     8.64x8.67x5.2  Excellent     Russia     Pear   \n",
       "2681                   False  11.16x11.18x6.64  Excellent     Russia     Oval   \n",
       "2682                   False    6.42x6.45x3.84  Excellent     Russia    Round   \n",
       "\n",
       "       Symmetry      Table Vendor    RetailPrice    profit  Offers  \n",
       "0     Excellent  57.000000      1     950.126925  0.603476     NaN  \n",
       "1     Excellent  59.000000      1     943.947796  0.630525     NaN  \n",
       "2     Very good  58.000000      1     118.859820 -0.800633     NaN  \n",
       "3     Very good  58.000000      1     898.241287  0.379981     NaN  \n",
       "4     Very good  58.104324      1     943.378085  0.585112     NaN  \n",
       "...         ...        ...    ...            ...       ...     ...  \n",
       "2678  Excellent  60.000000      4   37564.831487  0.306380     NaN  \n",
       "2679  Excellent  58.000000      2    4537.574374 -0.871937     NaN  \n",
       "2680  Very good  58.104324      2   35508.073094  0.628014     NaN  \n",
       "2681  Excellent  59.000000      2  186142.860581  0.520539     NaN  \n",
       "2682  Excellent  61.000000      2    9197.414939  0.604371     NaN  \n",
       "\n",
       "[2683 rows x 18 columns]"
      ]
     },
     "execution_count": 400,
     "metadata": {},
     "output_type": "execute_result"
    }
   ],
   "source": [
    "final_offer = pd.merge(offer3, my_offer2, how='left')"
   ]
  },
  {
   "cell_type": "code",
   "execution_count": 362,
   "id": "5099f1e4",
   "metadata": {
    "scrolled": true
   },
   "outputs": [],
   "source": [
    "final_offer.to_csv(r'C:\\Users\\ebukaezenwafor\\Desktop\\export_dataframe.csv', index = False, header=True)"
   ]
  },
  {
   "cell_type": "code",
   "execution_count": null,
   "id": "6d8a9ae0",
   "metadata": {},
   "outputs": [],
   "source": [
    "training.to_csv(r'C:\\Users\\ebukaezenwafor\\Desktop\\training"
   ]
  },
  {
   "cell_type": "code",
   "execution_count": 3,
   "id": "16229f8b",
   "metadata": {},
   "outputs": [],
   "source": [
    "training.to_csv(r'C:\\Users\\ebukaezenwafor\\Desktop\\training_clean.csv', index = False, header=True)\n"
   ]
  },
  {
   "cell_type": "markdown",
   "id": "1128fa61",
   "metadata": {},
   "source": [
    "### questions ( A and B)\n",
    "a) from the chart, the vendors are selling relatively at a competitive price. \n",
    "b) there is a positive correlation between carats and retail price sp to say that the higher the carat, the greater the price of the daimond. it is a natural phenomenon as daimond are sold based on their carat. "
   ]
  },
  {
   "cell_type": "code",
   "execution_count": 417,
   "id": "d6bb55f4",
   "metadata": {
    "scrolled": false
   },
   "outputs": [
    {
     "data": {
      "image/png": "[encoded data removed]",
      "text/plain": [
       "<Figure size 432x288 with 1 Axes>"
      ]
     },
     "metadata": {
      "needs_background": "light"
     },
     "output_type": "display_data"
    },
    {
     "data": {
      "image/png": "[encoded data removed]",
      "text/plain": [
       "<Figure size 432x288 with 1 Axes>"
      ]
     },
     "metadata": {
      "needs_background": "light"
     },
     "output_type": "display_data"
    }
   ],
   "source": [
    "plt.bar(training['Vendor'], training['Retail'].mean())\n",
    "plt.show()\n",
    "\n",
    "plt.plot(training['Carats'], training['Retail'], 'o')\n",
    "plt.show()"
   ]
  }
 ],
 "metadata": {
  "kernelspec": {
   "display_name": "Python 3 (ipykernel)",
   "language": "python",
   "name": "python3"
  },
  "language_info": {
   "codemirror_mode": {
    "name": "ipython",
    "version": 3
   },
   "file_extension": ".py",
   "mimetype": "text/x-python",
   "name": "python",
   "nbconvert_exporter": "python",
   "pygments_lexer": "ipython3",
   "version": "3.9.7"
  }
 },
 "nbformat": 4,
 "nbformat_minor": 5
}
